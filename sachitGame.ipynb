{
 "cells": [
  {
   "cell_type": "markdown",
   "id": "4088bd2d-1d97-42ac-b4da-4fa4a6fda6f3",
   "metadata": {},
   "source": [
    "##### Import necessary library\n",
    "import random\n",
    "\n",
    "# Welcome message\n",
    "print(\"Welcome to the 'Guess the Number' game!\")\n",
    "print(\"I have chosen a number between 1 and 20. Can you guess what it is?\")\n",
    "\n",
    "# Generate a random number between 1 and 20\n",
    "number_to_guess = random.randint(1, 20)\n",
    "\n",
    "# Initialize variables\n",
    "attempts = 0\n",
    "guessed_correctly = False\n",
    "\n",
    "# Game loop\n",
    "while not guessed_correctly:\n",
    "    try:\n",
    "        # Get the player's guess\n",
    "        guess = int(input(\"Enter your guess: \"))\n",
    "        attempts += 1\n",
    "\n",
    "        # Check the guess\n",
    "        if guess < number_to_guess:\n",
    "            print(\"Too low! Try again.\")\n",
    "        elif guess > number_to_guess:\n",
    "            print(\"Too high! Try again.\")\n",
    "        else:\n",
    "            print(f\"🎉 Congratulations! You guessed the number in {attempts} attempts.\")\n",
    "            guessed_correctly = True\n",
    "    except ValueError:\n",
    "        print(\"⚠️ Please enter a valid number.\")\n",
    "\n",
    "# End of the game\n",
    "print(\"Thanks for playing! See you next time!\")"
   ]
  },
  {
   "cell_type": "code",
   "execution_count": null,
   "id": "baed4e6a-22f4-4828-9200-b1e344f4266d",
   "metadata": {},
   "outputs": [
    {
     "name": "stdout",
     "output_type": "stream",
     "text": [
      "Welcome to the 'Guess the Number' game!\n",
      "I have chosen a number between 1 and 20. Can you guess what it is?\n"
     ]
    },
    {
     "name": "stdin",
     "output_type": "stream",
     "text": [
      "Enter your guess:  1\n"
     ]
    },
    {
     "name": "stdout",
     "output_type": "stream",
     "text": [
      "Too low! Try again.\n"
     ]
    },
    {
     "name": "stdin",
     "output_type": "stream",
     "text": [
      "Enter your guess:  2\n"
     ]
    },
    {
     "name": "stdout",
     "output_type": "stream",
     "text": [
      "Too low! Try again.\n"
     ]
    }
   ],
   "source": [
    "##### Import necessary libraries\n",
    "import random\n",
    "import ipywidgets as widgets\n",
    "from IPython.display import display, clear_output\n",
    "\n",
    "# Welcome message\n",
    "print(\"Welcome to the 'Guess the Number' game!\")\n",
    "print(\"I have chosen a number between 1 and 20. Use the slider to guess!\")\n",
    "\n",
    "# Generate a random number between 1 and 20\n",
    "number_to_guess = random.randint(1, 20)\n",
    "\n",
    "# Initialize variables\n",
    "attempts = 0\n",
    "guessed_correctly = False\n",
    "\n",
    "# Create slider widget\n",
    "guess_slider = widgets.IntSlider(\n",
    "    value=10,\n",
    "    min=1,\n",
    "    max=20,\n",
    "    step=1,\n",
    "    description='Your Guess:',\n",
    "    style={'description_width': 'initial'},\n",
    "    continuous_update=False\n",
    ")\n",
    "\n",
    "# Create button widget\n",
    "submit_button = widgets.Button(description=\"Submit Guess\")\n",
    "\n",
    "# Output area\n",
    "output = widgets.Output()\n",
    "\n",
    "# Define callback function\n",
    "def on_submit(b):\n",
    "    global attempts, guessed_correctly\n",
    "    with output:\n",
    "        clear_output(wait=True)\n",
    "        guess = guess_slider.value\n",
    "        attempts += 1\n",
    "        print(f\"Attempt #{attempts}: You guessed {guess}\")\n",
    "        if guess < number_to_guess:\n",
    "            print(\"Too low! Try again.\")\n",
    "        elif guess > number_to_guess:\n",
    "            print(\"Too high! Try again.\")\n",
    "        else:\n",
    "            print(f\"🎉 Congratulations! You guessed the number in {attempts} attempts.\")\n",
    "            guessed_correctly = True\n",
    "            submit_button.disabled = True\n",
    "            guess_slider.disabled = True\n",
    "            print(\"Thanks for playing! See you next time!\")\n",
    "\n",
    "# Bind callback\n",
    "submit_button.on_click(on_submit)\n",
    "\n",
    "# Display widgets\n",
    "display(guess_slider, submit_button, output)"
   ]
  },
  {
   "cell_type": "code",
   "execution_count": null,
   "id": "dfa09cee-bd13-4160-a86b-d1b591547ff9",
   "metadata": {},
   "outputs": [],
   "source": []
  }
 ],
 "metadata": {
  "kernelspec": {
   "display_name": "Python [conda env:base] *",
   "language": "python",
   "name": "conda-base-py"
  },
  "language_info": {
   "codemirror_mode": {
    "name": "ipython",
    "version": 3
   },
   "file_extension": ".py",
   "mimetype": "text/x-python",
   "name": "python",
   "nbconvert_exporter": "python",
   "pygments_lexer": "ipython3",
   "version": "3.12.7"
  },
  "widgets": {
   "application/vnd.jupyter.widget-state+json": {
    "state": {},
    "version_major": 2,
    "version_minor": 0
   }
  }
 },
 "nbformat": 4,
 "nbformat_minor": 5
}
