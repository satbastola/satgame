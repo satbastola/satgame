{
 "cells": [
  {
   "cell_type": "markdown",
   "id": "4419045c-8c05-48b7-a561-a2e310a89b20",
   "metadata": {},
   "source": [
    "## 🚕 QuickRide Booking System - Code Overview\n",
    "\n",
    "This Python script simulates a basic ride-booking system with the following components:\n",
    "\n",
    "### 🧱 Class: `Ride`\n",
    "Represents a ride request with attributes and methods:\n",
    "- `__init__`: Initializes ride details—pickup, drop-off, vehicle type—and calculates fare.\n",
    "- `calculate_fare`: Computes fare based on vehicle type and estimated distance.\n",
    "  - Base fares: Sedan ($10), SUV ($15), Bike ($5)\n",
    "  - Additional fare: $2 per unit distance\n",
    "- `estimate_distance`: Simulates distance using the string length difference of locations.\n",
    "- `summary`: Prints ride details including pickup, drop-off, vehicle type, and fare.\n",
    "\n",
    "### 🛠️ Function: `book_ride()`\n",
    "Handles user interaction:\n",
    "- Prompts for pickup and drop-off locations\n",
    "- Asks user to select a vehicle type (Sedan, SUV, Bike)\n",
    "- Maps input to vehicle type and creates a `Ride` object\n",
    "- Displays the ride summary\n",
    "\n",
    "### ▶️ Execution\n",
    "The script ends by calling `book_ride()` to start the booking process.\n",
    "\n",
    "> 🎯 Ideal for beginners learning object-oriented programming and basic input/output handling in Python!\n"
   ]
  },
  {
   "cell_type": "code",
   "execution_count": 2,
   "id": "030b93b7-843c-45cc-968e-343b386d6d8c",
   "metadata": {},
   "outputs": [
    {
     "data": {
      "application/vnd.jupyter.widget-view+json": {
       "model_id": "8bad966263c74607a7f4f6a48aeb4157",
       "version_major": 2,
       "version_minor": 0
      },
      "text/plain": [
       "Text(value='Downtown', description='Pickup:', style=TextStyle(description_width='initial'))"
      ]
     },
     "metadata": {},
     "output_type": "display_data"
    },
    {
     "data": {
      "application/vnd.jupyter.widget-view+json": {
       "model_id": "580aeaf44169476fba6ed3fe9e5d741c",
       "version_major": 2,
       "version_minor": 0
      },
      "text/plain": [
       "Text(value='Airport', description='Drop-off:', style=TextStyle(description_width='initial'))"
      ]
     },
     "metadata": {},
     "output_type": "display_data"
    },
    {
     "data": {
      "application/vnd.jupyter.widget-view+json": {
       "model_id": "c6c36ae42c114f6ea3058cf5ed427334",
       "version_major": 2,
       "version_minor": 0
      },
      "text/plain": [
       "Dropdown(description='Vehicle Type:', options=('Sedan', 'SUV', 'Bike'), style=DescriptionStyle(description_wid…"
      ]
     },
     "metadata": {},
     "output_type": "display_data"
    },
    {
     "data": {
      "application/vnd.jupyter.widget-view+json": {
       "model_id": "af8b8c4a25e44298ace4eeaff028335c",
       "version_major": 2,
       "version_minor": 0
      },
      "text/plain": [
       "Button(description='Book Ride 🚕', style=ButtonStyle())"
      ]
     },
     "metadata": {},
     "output_type": "display_data"
    },
    {
     "data": {
      "application/vnd.jupyter.widget-view+json": {
       "model_id": "05a7dee3066a44528e1fc8a8cfcec311",
       "version_major": 2,
       "version_minor": 0
      },
      "text/plain": [
       "Output()"
      ]
     },
     "metadata": {},
     "output_type": "display_data"
    }
   ],
   "source": [
    "import ipywidgets as widgets\n",
    "from IPython.display import display, clear_output\n",
    "\n",
    "# 🚗 Ride class definition\n",
    "class Ride:\n",
    "    def __init__(self, pickup, dropoff, vehicle_type):\n",
    "        self.pickup = pickup\n",
    "        self.dropoff = dropoff\n",
    "        self.vehicle_type = vehicle_type\n",
    "        self.fare = self.calculate_fare()\n",
    "\n",
    "    def calculate_fare(self):\n",
    "        base_fare = {\n",
    "            'Sedan': 10,\n",
    "            'SUV': 15,\n",
    "            'Bike': 5\n",
    "        }\n",
    "        distance = self.estimate_distance()\n",
    "        return base_fare.get(self.vehicle_type, 10) + distance * 2\n",
    "\n",
    "    def estimate_distance(self):\n",
    "        # Simulated distance based on location names\n",
    "        return abs(len(self.pickup) - len(self.dropoff)) + 5\n",
    "\n",
    "    def summary(self):\n",
    "        print(\"\\n📋 Ride Summary:\")\n",
    "        print(f\"Pickup Location: {self.pickup}\")\n",
    "        print(f\"Drop-off Location: {self.dropoff}\")\n",
    "        print(f\"Vehicle Type: {self.vehicle_type}\")\n",
    "        print(f\"Estimated Fare: ${self.fare:.2f}\")\n",
    "\n",
    "# 🧭 Widgets for user input\n",
    "pickup_input = widgets.Text(\n",
    "    value='Downtown',\n",
    "    description='Pickup:',\n",
    "    style={'description_width': 'initial'}\n",
    ")\n",
    "\n",
    "dropoff_input = widgets.Text(\n",
    "    value='Airport',\n",
    "    description='Drop-off:',\n",
    "    style={'description_width': 'initial'}\n",
    ")\n",
    "\n",
    "vehicle_dropdown = widgets.Dropdown(\n",
    "    options=['Sedan', 'SUV', 'Bike'],\n",
    "    value='Sedan',\n",
    "    description='Vehicle Type:',\n",
    "    style={'description_width': 'initial'}\n",
    ")\n",
    "\n",
    "submit_button = widgets.Button(description=\"Book Ride 🚕\")\n",
    "output = widgets.Output()\n",
    "\n",
    "# 📦 Callback function\n",
    "def on_submit(b):\n",
    "    with output:\n",
    "        clear_output(wait=True)\n",
    "        pickup = pickup_input.value\n",
    "        dropoff = dropoff_input.value\n",
    "        vehicle_type = vehicle_dropdown.value\n",
    "        ride = Ride(pickup, dropoff, vehicle_type)\n",
    "        ride.summary()\n",
    "\n",
    "# 🔗 Bind callback\n",
    "submit_button.on_click(on_submit)\n",
    "\n",
    "# 📤 Display interface\n",
    "display(pickup_input, dropoff_input, vehicle_dropdown, submit_button, output)"
   ]
  },
  {
   "cell_type": "code",
   "execution_count": null,
   "id": "99a9380d-a0cd-476a-bacd-7a0bfc5ae0ad",
   "metadata": {},
   "outputs": [],
   "source": []
  }
 ],
 "metadata": {
  "kernelspec": {
   "display_name": "Python [conda env:base] *",
   "language": "python",
   "name": "conda-base-py"
  },
  "language_info": {
   "codemirror_mode": {
    "name": "ipython",
    "version": 3
   },
   "file_extension": ".py",
   "mimetype": "text/x-python",
   "name": "python",
   "nbconvert_exporter": "python",
   "pygments_lexer": "ipython3",
   "version": "3.12.7"
  },
  "widgets": {
   "application/vnd.jupyter.widget-state+json": {
    "state": {
     "05a7dee3066a44528e1fc8a8cfcec311": {
      "model_module": "@jupyter-widgets/output",
      "model_module_version": "1.0.0",
      "model_name": "OutputModel",
      "state": {
       "layout": "IPY_MODEL_a6b964446b4a4e2f99339043323a82fd"
      }
     },
     "399b4b2226814dc18bc121ebd1b76f6a": {
      "model_module": "@jupyter-widgets/base",
      "model_module_version": "2.0.0",
      "model_name": "LayoutModel",
      "state": {}
     },
     "3cd4bfdea25f406ba3306976845c9c52": {
      "model_module": "@jupyter-widgets/controls",
      "model_module_version": "2.0.0",
      "model_name": "DescriptionStyleModel",
      "state": {
       "description_width": "initial"
      }
     },
     "580aeaf44169476fba6ed3fe9e5d741c": {
      "model_module": "@jupyter-widgets/controls",
      "model_module_version": "2.0.0",
      "model_name": "TextModel",
      "state": {
       "description": "Drop-off:",
       "layout": "IPY_MODEL_6db374b2eb874fb18f93499a72e3efae",
       "style": "IPY_MODEL_61dd6327b4794f449a86df6ef938432f",
       "value": "Airport"
      }
     },
     "59fe6dd0909546d78825f7713a449ea5": {
      "model_module": "@jupyter-widgets/base",
      "model_module_version": "2.0.0",
      "model_name": "LayoutModel",
      "state": {}
     },
     "61dd6327b4794f449a86df6ef938432f": {
      "model_module": "@jupyter-widgets/controls",
      "model_module_version": "2.0.0",
      "model_name": "TextStyleModel",
      "state": {
       "description_width": "initial",
       "font_size": null,
       "text_color": null
      }
     },
     "6db374b2eb874fb18f93499a72e3efae": {
      "model_module": "@jupyter-widgets/base",
      "model_module_version": "2.0.0",
      "model_name": "LayoutModel",
      "state": {}
     },
     "79822a2f03714cad8134735683aba7ee": {
      "model_module": "@jupyter-widgets/base",
      "model_module_version": "2.0.0",
      "model_name": "LayoutModel",
      "state": {}
     },
     "8bad966263c74607a7f4f6a48aeb4157": {
      "model_module": "@jupyter-widgets/controls",
      "model_module_version": "2.0.0",
      "model_name": "TextModel",
      "state": {
       "description": "Pickup:",
       "layout": "IPY_MODEL_399b4b2226814dc18bc121ebd1b76f6a",
       "style": "IPY_MODEL_d7e191615daa49369270556add25d012",
       "value": "Downtown"
      }
     },
     "a6b964446b4a4e2f99339043323a82fd": {
      "model_module": "@jupyter-widgets/base",
      "model_module_version": "2.0.0",
      "model_name": "LayoutModel",
      "state": {}
     },
     "af8b8c4a25e44298ace4eeaff028335c": {
      "model_module": "@jupyter-widgets/controls",
      "model_module_version": "2.0.0",
      "model_name": "ButtonModel",
      "state": {
       "description": "Book Ride 🚕",
       "layout": "IPY_MODEL_59fe6dd0909546d78825f7713a449ea5",
       "style": "IPY_MODEL_f9fce629b7434b1b956997fd7ca40370",
       "tooltip": null
      }
     },
     "c6c36ae42c114f6ea3058cf5ed427334": {
      "model_module": "@jupyter-widgets/controls",
      "model_module_version": "2.0.0",
      "model_name": "DropdownModel",
      "state": {
       "_options_labels": [
        "Sedan",
        "SUV",
        "Bike"
       ],
       "description": "Vehicle Type:",
       "index": 0,
       "layout": "IPY_MODEL_79822a2f03714cad8134735683aba7ee",
       "style": "IPY_MODEL_3cd4bfdea25f406ba3306976845c9c52"
      }
     },
     "d7e191615daa49369270556add25d012": {
      "model_module": "@jupyter-widgets/controls",
      "model_module_version": "2.0.0",
      "model_name": "TextStyleModel",
      "state": {
       "description_width": "initial",
       "font_size": null,
       "text_color": null
      }
     },
     "f9fce629b7434b1b956997fd7ca40370": {
      "model_module": "@jupyter-widgets/controls",
      "model_module_version": "2.0.0",
      "model_name": "ButtonStyleModel",
      "state": {
       "font_family": null,
       "font_size": null,
       "font_style": null,
       "font_variant": null,
       "font_weight": null,
       "text_color": null,
       "text_decoration": null
      }
     }
    },
    "version_major": 2,
    "version_minor": 0
   }
  }
 },
 "nbformat": 4,
 "nbformat_minor": 5
}
