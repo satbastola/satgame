{
 "cells": [
  {
   "cell_type": "code",
   "execution_count": 1,
   "id": "ba36cd1d-63c8-4a85-92d3-9ea96b4b2262",
   "metadata": {},
   "outputs": [
    {
     "name": "stdout",
     "output_type": "stream",
     "text": [
      "🚕 Welcome to QuickRide Booking System\n"
     ]
    },
    {
     "name": "stdin",
     "output_type": "stream",
     "text": [
      "Enter pickup location:  1\n",
      "Enter drop-off location:  2\n"
     ]
    },
    {
     "name": "stdout",
     "output_type": "stream",
     "text": [
      "\n",
      "Choose vehicle type:\n",
      "1. Sedan\n",
      "2. SUV\n",
      "3. Bike\n"
     ]
    },
    {
     "name": "stdin",
     "output_type": "stream",
     "text": [
      "Enter choice (1-3):  1\n"
     ]
    },
    {
     "name": "stdout",
     "output_type": "stream",
     "text": [
      "\n",
      "📋 Ride Summary:\n",
      "Pickup Location: 1\n",
      "Drop-off Location: 2\n",
      "Vehicle Type: Sedan\n",
      "Estimated Fare: $20.00\n"
     ]
    }
   ],
   "source": [
    "# class Ride:\n",
    "    def __init__(self, pickup, dropoff, vehicle_type):\n",
    "        self.pickup = pickup\n",
    "        self.dropoff = dropoff\n",
    "        self.vehicle_type = vehicle_type\n",
    "        self.fare = self.calculate_fare()\n",
    "\n",
    "    def calculate_fare(self):\n",
    "        base_fare = {\n",
    "            'Sedan': 10,\n",
    "            'SUV': 15,\n",
    "            'Bike': 5\n",
    "        }\n",
    "        distance = self.estimate_distance()\n",
    "        return base_fare.get(self.vehicle_type, 10) + distance * 2\n",
    "\n",
    "    def estimate_distance(self):\n",
    "        # Simulated distance based on location names\n",
    "        return abs(len(self.pickup) - len(self.dropoff)) + 5\n",
    "\n",
    "    def summary(self):\n",
    "        print(\"\\n📋 Ride Summary:\")\n",
    "        print(f\"Pickup Location: {self.pickup}\")\n",
    "        print(f\"Drop-off Location: {self.dropoff}\")\n",
    "        print(f\"Vehicle Type: {self.vehicle_type}\")\n",
    "        print(f\"Estimated Fare: ${self.fare:.2f}\")\n",
    "\n",
    "def book_ride():\n",
    "    print(\"🚕 Welcome to QuickRide Booking System\")\n",
    "    pickup = input(\"Enter pickup location: \")\n",
    "    dropoff = input(\"Enter drop-off location: \")\n",
    "\n",
    "    print(\"\\nChoose vehicle type:\")\n",
    "    print(\"1. Sedan\\n2. SUV\\n3. Bike\")\n",
    "    choice = input(\"Enter choice (1-3): \")\n",
    "\n",
    "    vehicle_map = {'1': 'Sedan', '2': 'SUV', '3': 'Bike'}\n",
    "    vehicle_type = vehicle_map.get(choice, 'Sedan')\n",
    "\n",
    "    ride = Ride(pickup, dropoff, vehicle_type)\n",
    "    ride.summary()\n",
    "\n",
    "# Run the booking system\n",
    "book_ride()"
   ]
  },
  {
   "cell_type": "code",
   "execution_count": null,
   "id": "99a9380d-a0cd-476a-bacd-7a0bfc5ae0ad",
   "metadata": {},
   "outputs": [],
   "source": []
  }
 ],
 "metadata": {
  "kernelspec": {
   "display_name": "Python [conda env:base] *",
   "language": "python",
   "name": "conda-base-py"
  },
  "language_info": {
   "codemirror_mode": {
    "name": "ipython",
    "version": 3
   },
   "file_extension": ".py",
   "mimetype": "text/x-python",
   "name": "python",
   "nbconvert_exporter": "python",
   "pygments_lexer": "ipython3",
   "version": "3.12.7"
  },
  "widgets": {
   "application/vnd.jupyter.widget-state+json": {
    "state": {},
    "version_major": 2,
    "version_minor": 0
   }
  }
 },
 "nbformat": 4,
 "nbformat_minor": 5
}
