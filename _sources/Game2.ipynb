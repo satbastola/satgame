{
 "cells": [
  {
   "cell_type": "markdown",
   "id": "0662e1bc-ce43-4f64-8cad-810154a4a1df",
   "metadata": {},
   "source": [
    "# 🧠 How the Tic-Tac-Toe Program Works\n",
    "\n",
    "This program implements a **simple two-player Tic-Tac-Toe game** using Python. The gameplay flows in turns, with built-in checks for winning and draw conditions.\n",
    "\n",
    "---\n",
    "\n",
    "## 🧩 Game Flow Overview\n",
    "\n",
    "1. **Initialize the board**  \n",
    "   - A 3×3 grid filled with numbers 1–9 represents available positions.\n",
    "\n",
    "2. **Start with Player X**  \n",
    "   - `current_player` is initialized as `'X'`.\n",
    "\n",
    "3. **Main Game Loop**  \n",
    "   - The loop continues until a win or draw occurs.\n",
    "   - Each turn includes:\n",
    "     - Printing the board.\n",
    "     - Prompting the player for input.\n",
    "     - Validating the input.\n",
    "     - Updating the board.\n",
    "     - Checking for a win.\n",
    "     - Checking for a draw.\n",
    "     - Switching turns.\n",
    "\n",
    "---\n",
    "\n",
    "## 🔍 Key Components\n",
    "\n",
    "### 1. `print_board(board)`\n",
    "Displays the board in a visually structured format.\n",
    "\n",
    "### 2. `check_winner(board, player)`\n",
    "Checks:\n",
    "- Each **row**, **column**, and both **diagonals**  \n",
    "to see if all cells are the current player's symbol (`'X'` or `'O'`).\n",
    "\n",
    "### 3. `is_full(board)`\n",
    "Checks if the board is full (no remaining numbers), which results in a draw.\n",
    "\n",
    "---\n",
    "\n",
    "## 🎮 Input & Validation\n",
    "\n",
    "- Input must be a digit between `1–9`.\n",
    "- If input is invalid or position is already taken, the player is prompted again.\n",
    "\n",
    "---\n",
    "\n",
    "## 🏆 End Conditions\n",
    "\n",
    "- If `check_winner()` returns `True`:  \n",
    "  → The game prints the board and announces the winner.\n",
    "\n",
    "- If `is_full()` returns `True` without a winner:  \n",
    "  → The game ends in a draw.\n",
    "\n",
    "---\n",
    "\n",
    "## 🔁 Turn Switching\n",
    "\n",
    "After each valid move, `current_player` is flipped:  \n",
    "`'X'` ↔ `'O'`\n",
    "\n",
    "---\n",
    "\n",
    "Want to add enhancements like replay functionality, score tracking, or even an AI opponent? I’d love to help upgrade it.\n"
   ]
  },
  {
   "cell_type": "code",
   "execution_count": 2,
   "id": "7f73d8a8-6f18-46fc-a42a-102fb40c6862",
   "metadata": {},
   "outputs": [
    {
     "data": {
      "application/vnd.jupyter.widget-view+json": {
       "model_id": "0c17e13ee33a414e8681bb636cbdad6a",
       "version_major": 2,
       "version_minor": 0
      },
      "text/plain": [
       "HTML(value='<h2>🎮 Tic Tac Toe Game</h2>')"
      ]
     },
     "metadata": {},
     "output_type": "display_data"
    },
    {
     "data": {
      "application/vnd.jupyter.widget-view+json": {
       "model_id": "3941cdf7f8c844c2a262bd7ce990cb36",
       "version_major": 2,
       "version_minor": 0
      },
      "text/plain": [
       "GridBox(children=(Button(description='1', layout=Layout(width='60px'), style=ButtonStyle()), Button(descriptio…"
      ]
     },
     "metadata": {},
     "output_type": "display_data"
    }
   ],
   "source": [
    "import ipywidgets as widgets\n",
    "from IPython.display import display, clear_output\n",
    "\n",
    "# Game state\n",
    "board = [['1','2','3'], ['4','5','6'], ['7','8','9']]\n",
    "current_player = ['X']\n",
    "buttons = []\n",
    "\n",
    "# Check for winner\n",
    "def check_winner(board, player):\n",
    "    for i in range(3):\n",
    "        if all(cell == player for cell in board[i]): return True\n",
    "        if all(board[j][i] == player for j in range(3)): return True\n",
    "    if all(board[i][i] == player for i in range(3)): return True\n",
    "    if all(board[i][2 - i] == player for i in range(3)): return True\n",
    "    return False\n",
    "\n",
    "def is_full(board):\n",
    "    return all(cell in ['X', 'O'] for row in board for cell in row)\n",
    "\n",
    "# Button click handler\n",
    "def on_click(b):\n",
    "    move = int(b.description) - 1\n",
    "    row, col = divmod(move, 3)\n",
    "\n",
    "    if board[row][col] in ['X', 'O']:\n",
    "        b.style.button_color = '#ffcccc'\n",
    "        b.description = '❌'\n",
    "        return\n",
    "\n",
    "    board[row][col] = current_player[0]\n",
    "    b.description = current_player[0]\n",
    "    b.disabled = True\n",
    "\n",
    "    if check_winner(board, current_player[0]):\n",
    "        display(widgets.HTML(f\"<h3>🎉 Player {current_player[0]} wins!</h3>\"))\n",
    "        for btn in buttons:\n",
    "            btn.disabled = True\n",
    "        return\n",
    "\n",
    "    if is_full(board):\n",
    "        display(widgets.HTML(\"<h3>🤝 It's a draw!</h3>\"))\n",
    "        return\n",
    "\n",
    "    current_player[0] = 'O' if current_player[0] == 'X' else 'X'\n",
    "\n",
    "# Create buttons grid\n",
    "def launch_game():\n",
    "    clear_output()\n",
    "    display(widgets.HTML(\"<h2>🎮 Tic Tac Toe Game</h2>\"))\n",
    "    global buttons, board, current_player\n",
    "    board = [['1','2','3'], ['4','5','6'], ['7','8','9']]\n",
    "    current_player[0] = 'X'\n",
    "    buttons = []\n",
    "\n",
    "    grid = widgets.GridBox(layout=widgets.Layout(grid_template_columns=\"repeat(3, 60px)\"))\n",
    "\n",
    "    for i in range(9):\n",
    "        btn = widgets.Button(description=str(i+1), layout=widgets.Layout(width=\"60px\"))\n",
    "        btn.on_click(on_click)\n",
    "        buttons.append(btn)\n",
    "\n",
    "    grid.children = buttons\n",
    "    display(grid)\n",
    "\n",
    "launch_game()\n"
   ]
  },
  {
   "cell_type": "code",
   "execution_count": null,
   "id": "55d753b4-651f-455a-bc7c-fcfde706dd78",
   "metadata": {},
   "outputs": [],
   "source": []
  }
 ],
 "metadata": {
  "kernelspec": {
   "display_name": "Python [conda env:base] *",
   "language": "python",
   "name": "conda-base-py"
  },
  "language_info": {
   "codemirror_mode": {
    "name": "ipython",
    "version": 3
   },
   "file_extension": ".py",
   "mimetype": "text/x-python",
   "name": "python",
   "nbconvert_exporter": "python",
   "pygments_lexer": "ipython3",
   "version": "3.12.7"
  },
  "widgets": {
   "application/vnd.jupyter.widget-state+json": {
    "state": {
     "06f3ba39f8514cf6866e1c09e89db4e5": {
      "model_module": "@jupyter-widgets/base",
      "model_module_version": "2.0.0",
      "model_name": "LayoutModel",
      "state": {}
     },
     "0adb838613e44451b8010ae0434e8d5d": {
      "model_module": "@jupyter-widgets/controls",
      "model_module_version": "2.0.0",
      "model_name": "ButtonStyleModel",
      "state": {
       "font_family": null,
       "font_size": null,
       "font_style": null,
       "font_variant": null,
       "font_weight": null,
       "text_color": null,
       "text_decoration": null
      }
     },
     "0b8ab9358639485e85e7eb1b0bd75dfd": {
      "model_module": "@jupyter-widgets/controls",
      "model_module_version": "2.0.0",
      "model_name": "ButtonModel",
      "state": {
       "description": "5",
       "layout": "IPY_MODEL_731ed5496371408e9ead808ad692a7e3",
       "style": "IPY_MODEL_9a56511feb0542f18f7f831fcb1d9e00",
       "tooltip": null
      }
     },
     "0b8ebc3825694796bdc3d999dfd219bb": {
      "model_module": "@jupyter-widgets/controls",
      "model_module_version": "2.0.0",
      "model_name": "ButtonModel",
      "state": {
       "description": "8",
       "layout": "IPY_MODEL_59e205c397314013b2ed9de2a97a1620",
       "style": "IPY_MODEL_968bc19a85f04941bfad1a8cdada9d7b",
       "tooltip": null
      }
     },
     "0c17e13ee33a414e8681bb636cbdad6a": {
      "model_module": "@jupyter-widgets/controls",
      "model_module_version": "2.0.0",
      "model_name": "HTMLModel",
      "state": {
       "layout": "IPY_MODEL_06f3ba39f8514cf6866e1c09e89db4e5",
       "style": "IPY_MODEL_16856de86be441f39b7df7cb5289d75e",
       "value": "<h2>🎮 Tic Tac Toe Game</h2>"
      }
     },
     "0ec08f091e0d41989bb908d2fb52448c": {
      "model_module": "@jupyter-widgets/controls",
      "model_module_version": "2.0.0",
      "model_name": "ButtonModel",
      "state": {
       "description": "X",
       "disabled": true,
       "layout": "IPY_MODEL_f7ac51c0655b4e6091569c31f501c919",
       "style": "IPY_MODEL_868a852488774f43aea477cc9ac6da36",
       "tooltip": null
      }
     },
     "1198423e9a7d41b2a54238b299aaeb03": {
      "model_module": "@jupyter-widgets/controls",
      "model_module_version": "2.0.0",
      "model_name": "HTMLModel",
      "state": {
       "layout": "IPY_MODEL_4e3fce3d13804c2787a986899d533d34",
       "style": "IPY_MODEL_d08aa423e5ca4adca314586993f5ecf0",
       "value": "<h3>🎉 Player X wins!</h3>"
      }
     },
     "151e6ab7e56d41c2b7d720f3b3ff429f": {
      "model_module": "@jupyter-widgets/base",
      "model_module_version": "2.0.0",
      "model_name": "LayoutModel",
      "state": {
       "width": "60px"
      }
     },
     "16856de86be441f39b7df7cb5289d75e": {
      "model_module": "@jupyter-widgets/controls",
      "model_module_version": "2.0.0",
      "model_name": "HTMLStyleModel",
      "state": {
       "description_width": "",
       "font_size": null,
       "text_color": null
      }
     },
     "221ed0b91e8249ca97c74ffadcbfae67": {
      "model_module": "@jupyter-widgets/controls",
      "model_module_version": "2.0.0",
      "model_name": "ButtonModel",
      "state": {
       "description": "X",
       "disabled": true,
       "layout": "IPY_MODEL_db3e42bc271b494899dd31a737f35cd6",
       "style": "IPY_MODEL_b300c01f827d4ed39c4ee24b85ae46c3",
       "tooltip": null
      }
     },
     "270b9a2884bb49b6899ad0b4b49b5d31": {
      "model_module": "@jupyter-widgets/controls",
      "model_module_version": "2.0.0",
      "model_name": "ButtonStyleModel",
      "state": {
       "font_family": null,
       "font_size": null,
       "font_style": null,
       "font_variant": null,
       "font_weight": null,
       "text_color": null,
       "text_decoration": null
      }
     },
     "27dd874eb3404cf38ae9461bfb2a40d8": {
      "model_module": "@jupyter-widgets/controls",
      "model_module_version": "2.0.0",
      "model_name": "ButtonStyleModel",
      "state": {
       "font_family": null,
       "font_size": null,
       "font_style": null,
       "font_variant": null,
       "font_weight": null,
       "text_color": null,
       "text_decoration": null
      }
     },
     "2b2ec91bd83d4b89a57be1cd5fcf894c": {
      "model_module": "@jupyter-widgets/controls",
      "model_module_version": "2.0.0",
      "model_name": "ButtonStyleModel",
      "state": {
       "font_family": null,
       "font_size": null,
       "font_style": null,
       "font_variant": null,
       "font_weight": null,
       "text_color": null,
       "text_decoration": null
      }
     },
     "2b62d02e116743e4849992c4ab65a188": {
      "model_module": "@jupyter-widgets/controls",
      "model_module_version": "2.0.0",
      "model_name": "HTMLStyleModel",
      "state": {
       "description_width": "",
       "font_size": null,
       "text_color": null
      }
     },
     "2f7649ed618b429fa5fff2e8667377f4": {
      "model_module": "@jupyter-widgets/controls",
      "model_module_version": "2.0.0",
      "model_name": "ButtonStyleModel",
      "state": {
       "font_family": null,
       "font_size": null,
       "font_style": null,
       "font_variant": null,
       "font_weight": null,
       "text_color": null,
       "text_decoration": null
      }
     },
     "36ba6b136c914184bdfa5107e284c084": {
      "model_module": "@jupyter-widgets/base",
      "model_module_version": "2.0.0",
      "model_name": "LayoutModel",
      "state": {
       "grid_template_columns": "repeat(3, 60px)"
      }
     },
     "3941cdf7f8c844c2a262bd7ce990cb36": {
      "model_module": "@jupyter-widgets/controls",
      "model_module_version": "2.0.0",
      "model_name": "GridBoxModel",
      "state": {
       "children": [
        "IPY_MODEL_8382cf92e2c94ced9fc0ce005f0ee0e3",
        "IPY_MODEL_0ec08f091e0d41989bb908d2fb52448c",
        "IPY_MODEL_ce7d9db2a42a430292dc21733df6a31e",
        "IPY_MODEL_65f90a20f604428fa88b1086112a7e07",
        "IPY_MODEL_0b8ab9358639485e85e7eb1b0bd75dfd",
        "IPY_MODEL_55a4ad08d91b47a388a74701cd713960",
        "IPY_MODEL_3e41c5dd2e904de498bd0c4798179a97",
        "IPY_MODEL_0b8ebc3825694796bdc3d999dfd219bb",
        "IPY_MODEL_79853aa31d3448b3b222de4fe0cd6f0a"
       ],
       "layout": "IPY_MODEL_36ba6b136c914184bdfa5107e284c084"
      }
     },
     "3a53b1011b4c4be5a946a412fda40111": {
      "model_module": "@jupyter-widgets/base",
      "model_module_version": "2.0.0",
      "model_name": "LayoutModel",
      "state": {
       "width": "60px"
      }
     },
     "3b8b2ec7739949b393de53afbd712006": {
      "model_module": "@jupyter-widgets/base",
      "model_module_version": "2.0.0",
      "model_name": "LayoutModel",
      "state": {
       "width": "60px"
      }
     },
     "3e41c5dd2e904de498bd0c4798179a97": {
      "model_module": "@jupyter-widgets/controls",
      "model_module_version": "2.0.0",
      "model_name": "ButtonModel",
      "state": {
       "description": "7",
       "layout": "IPY_MODEL_f1cdf6d432904e4686350fd3a4ad4966",
       "style": "IPY_MODEL_270b9a2884bb49b6899ad0b4b49b5d31",
       "tooltip": null
      }
     },
     "41b1ae018db440e584bd182f612f1810": {
      "model_module": "@jupyter-widgets/controls",
      "model_module_version": "2.0.0",
      "model_name": "ButtonModel",
      "state": {
       "description": "O",
       "disabled": true,
       "layout": "IPY_MODEL_cfc30cd148db44399570c9e298b26cd4",
       "style": "IPY_MODEL_0adb838613e44451b8010ae0434e8d5d",
       "tooltip": null
      }
     },
     "4516be9be0884a9db8b46ce5936462a0": {
      "model_module": "@jupyter-widgets/controls",
      "model_module_version": "2.0.0",
      "model_name": "ButtonModel",
      "state": {
       "description": "O",
       "disabled": true,
       "layout": "IPY_MODEL_d4a9cc0e32c441dba716d07a282168ad",
       "style": "IPY_MODEL_ab9a80cd54fe4e5b87254265d4daf6d7",
       "tooltip": null
      }
     },
     "4e3fce3d13804c2787a986899d533d34": {
      "model_module": "@jupyter-widgets/base",
      "model_module_version": "2.0.0",
      "model_name": "LayoutModel",
      "state": {}
     },
     "53524f2186ab433da18524e1913681d1": {
      "model_module": "@jupyter-widgets/controls",
      "model_module_version": "2.0.0",
      "model_name": "ButtonStyleModel",
      "state": {
       "font_family": null,
       "font_size": null,
       "font_style": null,
       "font_variant": null,
       "font_weight": null,
       "text_color": null,
       "text_decoration": null
      }
     },
     "55a4ad08d91b47a388a74701cd713960": {
      "model_module": "@jupyter-widgets/controls",
      "model_module_version": "2.0.0",
      "model_name": "ButtonModel",
      "state": {
       "description": "6",
       "layout": "IPY_MODEL_d844ff8af354483db59ce8b992a016d5",
       "style": "IPY_MODEL_f700eb95e1b2452ba4c80888e533177f",
       "tooltip": null
      }
     },
     "59e205c397314013b2ed9de2a97a1620": {
      "model_module": "@jupyter-widgets/base",
      "model_module_version": "2.0.0",
      "model_name": "LayoutModel",
      "state": {
       "width": "60px"
      }
     },
     "5b103f21aaec48a6a494ad78b92d2444": {
      "model_module": "@jupyter-widgets/controls",
      "model_module_version": "2.0.0",
      "model_name": "ButtonModel",
      "state": {
       "description": "X",
       "disabled": true,
       "layout": "IPY_MODEL_3b8b2ec7739949b393de53afbd712006",
       "style": "IPY_MODEL_bccbb43fffd44404885c73356357282c",
       "tooltip": null
      }
     },
     "65f90a20f604428fa88b1086112a7e07": {
      "model_module": "@jupyter-widgets/controls",
      "model_module_version": "2.0.0",
      "model_name": "ButtonModel",
      "state": {
       "description": "4",
       "layout": "IPY_MODEL_151e6ab7e56d41c2b7d720f3b3ff429f",
       "style": "IPY_MODEL_95a65e2733704ec5a5dafa09409d1868",
       "tooltip": null
      }
     },
     "731ed5496371408e9ead808ad692a7e3": {
      "model_module": "@jupyter-widgets/base",
      "model_module_version": "2.0.0",
      "model_name": "LayoutModel",
      "state": {
       "width": "60px"
      }
     },
     "79853aa31d3448b3b222de4fe0cd6f0a": {
      "model_module": "@jupyter-widgets/controls",
      "model_module_version": "2.0.0",
      "model_name": "ButtonModel",
      "state": {
       "description": "9",
       "layout": "IPY_MODEL_aeb51ca9790046fcb0287e4b11433ba4",
       "style": "IPY_MODEL_53524f2186ab433da18524e1913681d1",
       "tooltip": null
      }
     },
     "7f426ca3109b4bd9911f2682fd8f2503": {
      "model_module": "@jupyter-widgets/base",
      "model_module_version": "2.0.0",
      "model_name": "LayoutModel",
      "state": {
       "width": "60px"
      }
     },
     "8362a00a509e47639aeb110c34ddd312": {
      "model_module": "@jupyter-widgets/base",
      "model_module_version": "2.0.0",
      "model_name": "LayoutModel",
      "state": {}
     },
     "8382cf92e2c94ced9fc0ce005f0ee0e3": {
      "model_module": "@jupyter-widgets/controls",
      "model_module_version": "2.0.0",
      "model_name": "ButtonModel",
      "state": {
       "description": "1",
       "layout": "IPY_MODEL_ee3de50e3dbc45edb9df0484af74d7c9",
       "style": "IPY_MODEL_f0105f3aebf843c4b3fb1a255f7c92db",
       "tooltip": null
      }
     },
     "867c86fe8c6e414bb37a5f10af339adb": {
      "model_module": "@jupyter-widgets/base",
      "model_module_version": "2.0.0",
      "model_name": "LayoutModel",
      "state": {
       "grid_template_columns": "repeat(3, 60px)"
      }
     },
     "868a852488774f43aea477cc9ac6da36": {
      "model_module": "@jupyter-widgets/controls",
      "model_module_version": "2.0.0",
      "model_name": "ButtonStyleModel",
      "state": {
       "font_family": null,
       "font_size": null,
       "font_style": null,
       "font_variant": null,
       "font_weight": null,
       "text_color": null,
       "text_decoration": null
      }
     },
     "95a65e2733704ec5a5dafa09409d1868": {
      "model_module": "@jupyter-widgets/controls",
      "model_module_version": "2.0.0",
      "model_name": "ButtonStyleModel",
      "state": {
       "font_family": null,
       "font_size": null,
       "font_style": null,
       "font_variant": null,
       "font_weight": null,
       "text_color": null,
       "text_decoration": null
      }
     },
     "968bc19a85f04941bfad1a8cdada9d7b": {
      "model_module": "@jupyter-widgets/controls",
      "model_module_version": "2.0.0",
      "model_name": "ButtonStyleModel",
      "state": {
       "font_family": null,
       "font_size": null,
       "font_style": null,
       "font_variant": null,
       "font_weight": null,
       "text_color": null,
       "text_decoration": null
      }
     },
     "9a56511feb0542f18f7f831fcb1d9e00": {
      "model_module": "@jupyter-widgets/controls",
      "model_module_version": "2.0.0",
      "model_name": "ButtonStyleModel",
      "state": {
       "font_family": null,
       "font_size": null,
       "font_style": null,
       "font_variant": null,
       "font_weight": null,
       "text_color": null,
       "text_decoration": null
      }
     },
     "9b42cc9613764ef68d2d9418f12d4d89": {
      "model_module": "@jupyter-widgets/base",
      "model_module_version": "2.0.0",
      "model_name": "LayoutModel",
      "state": {
       "width": "60px"
      }
     },
     "9c63fec83d444466ad7ac55398030c49": {
      "model_module": "@jupyter-widgets/controls",
      "model_module_version": "2.0.0",
      "model_name": "ButtonModel",
      "state": {
       "description": "O",
       "disabled": true,
       "layout": "IPY_MODEL_e33efb2be3494c9c8362659f5012d3b6",
       "style": "IPY_MODEL_2f7649ed618b429fa5fff2e8667377f4",
       "tooltip": null
      }
     },
     "ab2e24f63e3f4344a5cfc08b6dd8c8e9": {
      "model_module": "@jupyter-widgets/controls",
      "model_module_version": "2.0.0",
      "model_name": "HTMLModel",
      "state": {
       "layout": "IPY_MODEL_8362a00a509e47639aeb110c34ddd312",
       "style": "IPY_MODEL_2b62d02e116743e4849992c4ab65a188",
       "value": "<h2>🎮 Tic Tac Toe Game</h2>"
      }
     },
     "ab9a80cd54fe4e5b87254265d4daf6d7": {
      "model_module": "@jupyter-widgets/controls",
      "model_module_version": "2.0.0",
      "model_name": "ButtonStyleModel",
      "state": {
       "font_family": null,
       "font_size": null,
       "font_style": null,
       "font_variant": null,
       "font_weight": null,
       "text_color": null,
       "text_decoration": null
      }
     },
     "aeb51ca9790046fcb0287e4b11433ba4": {
      "model_module": "@jupyter-widgets/base",
      "model_module_version": "2.0.0",
      "model_name": "LayoutModel",
      "state": {
       "width": "60px"
      }
     },
     "b300c01f827d4ed39c4ee24b85ae46c3": {
      "model_module": "@jupyter-widgets/controls",
      "model_module_version": "2.0.0",
      "model_name": "ButtonStyleModel",
      "state": {
       "font_family": null,
       "font_size": null,
       "font_style": null,
       "font_variant": null,
       "font_weight": null,
       "text_color": null,
       "text_decoration": null
      }
     },
     "bccbb43fffd44404885c73356357282c": {
      "model_module": "@jupyter-widgets/controls",
      "model_module_version": "2.0.0",
      "model_name": "ButtonStyleModel",
      "state": {
       "font_family": null,
       "font_size": null,
       "font_style": null,
       "font_variant": null,
       "font_weight": null,
       "text_color": null,
       "text_decoration": null
      }
     },
     "ce7d9db2a42a430292dc21733df6a31e": {
      "model_module": "@jupyter-widgets/controls",
      "model_module_version": "2.0.0",
      "model_name": "ButtonModel",
      "state": {
       "description": "O",
       "disabled": true,
       "layout": "IPY_MODEL_eaca8365875b48d08975af0bd45cd4c0",
       "style": "IPY_MODEL_2b2ec91bd83d4b89a57be1cd5fcf894c",
       "tooltip": null
      }
     },
     "cfc30cd148db44399570c9e298b26cd4": {
      "model_module": "@jupyter-widgets/base",
      "model_module_version": "2.0.0",
      "model_name": "LayoutModel",
      "state": {
       "width": "60px"
      }
     },
     "d08aa423e5ca4adca314586993f5ecf0": {
      "model_module": "@jupyter-widgets/controls",
      "model_module_version": "2.0.0",
      "model_name": "HTMLStyleModel",
      "state": {
       "description_width": "",
       "font_size": null,
       "text_color": null
      }
     },
     "d34cbb6979ab46c196e4cae83b07e38c": {
      "model_module": "@jupyter-widgets/controls",
      "model_module_version": "2.0.0",
      "model_name": "ButtonStyleModel",
      "state": {
       "font_family": null,
       "font_size": null,
       "font_style": null,
       "font_variant": null,
       "font_weight": null,
       "text_color": null,
       "text_decoration": null
      }
     },
     "d497cfdfc61f4009b31019dec884de1f": {
      "model_module": "@jupyter-widgets/controls",
      "model_module_version": "2.0.0",
      "model_name": "ButtonStyleModel",
      "state": {
       "font_family": null,
       "font_size": null,
       "font_style": null,
       "font_variant": null,
       "font_weight": null,
       "text_color": null,
       "text_decoration": null
      }
     },
     "d4a9cc0e32c441dba716d07a282168ad": {
      "model_module": "@jupyter-widgets/base",
      "model_module_version": "2.0.0",
      "model_name": "LayoutModel",
      "state": {
       "width": "60px"
      }
     },
     "d844ff8af354483db59ce8b992a016d5": {
      "model_module": "@jupyter-widgets/base",
      "model_module_version": "2.0.0",
      "model_name": "LayoutModel",
      "state": {
       "width": "60px"
      }
     },
     "dafce9138e73405db2d613c3ad029c68": {
      "model_module": "@jupyter-widgets/controls",
      "model_module_version": "2.0.0",
      "model_name": "ButtonModel",
      "state": {
       "description": "O",
       "disabled": true,
       "layout": "IPY_MODEL_9b42cc9613764ef68d2d9418f12d4d89",
       "style": "IPY_MODEL_d34cbb6979ab46c196e4cae83b07e38c",
       "tooltip": null
      }
     },
     "db3e42bc271b494899dd31a737f35cd6": {
      "model_module": "@jupyter-widgets/base",
      "model_module_version": "2.0.0",
      "model_name": "LayoutModel",
      "state": {
       "width": "60px"
      }
     },
     "dbdb11c587074ab0ad8224530388b808": {
      "model_module": "@jupyter-widgets/controls",
      "model_module_version": "2.0.0",
      "model_name": "ButtonModel",
      "state": {
       "description": "X",
       "disabled": true,
       "layout": "IPY_MODEL_fe2e788ff8a84515a4c3ec90ba409c5d",
       "style": "IPY_MODEL_e445674f89124b5f94597fcb37f19f3b",
       "tooltip": null
      }
     },
     "e33efb2be3494c9c8362659f5012d3b6": {
      "model_module": "@jupyter-widgets/base",
      "model_module_version": "2.0.0",
      "model_name": "LayoutModel",
      "state": {
       "width": "60px"
      }
     },
     "e445674f89124b5f94597fcb37f19f3b": {
      "model_module": "@jupyter-widgets/controls",
      "model_module_version": "2.0.0",
      "model_name": "ButtonStyleModel",
      "state": {
       "font_family": null,
       "font_size": null,
       "font_style": null,
       "font_variant": null,
       "font_weight": null,
       "text_color": null,
       "text_decoration": null
      }
     },
     "eaca8365875b48d08975af0bd45cd4c0": {
      "model_module": "@jupyter-widgets/base",
      "model_module_version": "2.0.0",
      "model_name": "LayoutModel",
      "state": {
       "width": "60px"
      }
     },
     "ee3de50e3dbc45edb9df0484af74d7c9": {
      "model_module": "@jupyter-widgets/base",
      "model_module_version": "2.0.0",
      "model_name": "LayoutModel",
      "state": {
       "width": "60px"
      }
     },
     "f0105f3aebf843c4b3fb1a255f7c92db": {
      "model_module": "@jupyter-widgets/controls",
      "model_module_version": "2.0.0",
      "model_name": "ButtonStyleModel",
      "state": {
       "font_family": null,
       "font_size": null,
       "font_style": null,
       "font_variant": null,
       "font_weight": null,
       "text_color": null,
       "text_decoration": null
      }
     },
     "f02ab9d4d08b4f149f1a98b94e3f6e6d": {
      "model_module": "@jupyter-widgets/controls",
      "model_module_version": "2.0.0",
      "model_name": "GridBoxModel",
      "state": {
       "children": [
        "IPY_MODEL_dbdb11c587074ab0ad8224530388b808",
        "IPY_MODEL_221ed0b91e8249ca97c74ffadcbfae67",
        "IPY_MODEL_4516be9be0884a9db8b46ce5936462a0",
        "IPY_MODEL_f6cfb01b6b9b44c1a4af8ca442d47eed",
        "IPY_MODEL_41b1ae018db440e584bd182f612f1810",
        "IPY_MODEL_5b103f21aaec48a6a494ad78b92d2444",
        "IPY_MODEL_f391cccbd4644ba69909f2dee25a10cc",
        "IPY_MODEL_9c63fec83d444466ad7ac55398030c49",
        "IPY_MODEL_dafce9138e73405db2d613c3ad029c68"
       ],
       "layout": "IPY_MODEL_867c86fe8c6e414bb37a5f10af339adb"
      }
     },
     "f1cdf6d432904e4686350fd3a4ad4966": {
      "model_module": "@jupyter-widgets/base",
      "model_module_version": "2.0.0",
      "model_name": "LayoutModel",
      "state": {
       "width": "60px"
      }
     },
     "f391cccbd4644ba69909f2dee25a10cc": {
      "model_module": "@jupyter-widgets/controls",
      "model_module_version": "2.0.0",
      "model_name": "ButtonModel",
      "state": {
       "description": "X",
       "disabled": true,
       "layout": "IPY_MODEL_7f426ca3109b4bd9911f2682fd8f2503",
       "style": "IPY_MODEL_d497cfdfc61f4009b31019dec884de1f",
       "tooltip": null
      }
     },
     "f6cfb01b6b9b44c1a4af8ca442d47eed": {
      "model_module": "@jupyter-widgets/controls",
      "model_module_version": "2.0.0",
      "model_name": "ButtonModel",
      "state": {
       "description": "X",
       "disabled": true,
       "layout": "IPY_MODEL_3a53b1011b4c4be5a946a412fda40111",
       "style": "IPY_MODEL_27dd874eb3404cf38ae9461bfb2a40d8",
       "tooltip": null
      }
     },
     "f700eb95e1b2452ba4c80888e533177f": {
      "model_module": "@jupyter-widgets/controls",
      "model_module_version": "2.0.0",
      "model_name": "ButtonStyleModel",
      "state": {
       "font_family": null,
       "font_size": null,
       "font_style": null,
       "font_variant": null,
       "font_weight": null,
       "text_color": null,
       "text_decoration": null
      }
     },
     "f7ac51c0655b4e6091569c31f501c919": {
      "model_module": "@jupyter-widgets/base",
      "model_module_version": "2.0.0",
      "model_name": "LayoutModel",
      "state": {
       "width": "60px"
      }
     },
     "fe2e788ff8a84515a4c3ec90ba409c5d": {
      "model_module": "@jupyter-widgets/base",
      "model_module_version": "2.0.0",
      "model_name": "LayoutModel",
      "state": {
       "width": "60px"
      }
     }
    },
    "version_major": 2,
    "version_minor": 0
   }
  }
 },
 "nbformat": 4,
 "nbformat_minor": 5
}
